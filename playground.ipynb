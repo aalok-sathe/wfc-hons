{
 "cells": [
  {
   "cell_type": "code",
   "execution_count": 1,
   "metadata": {},
   "outputs": [],
   "source": [
    "\n",
    "\n",
    "import datasets\n",
    "import transformers"
   ]
  },
  {
   "cell_type": "code",
   "execution_count": 25,
   "metadata": {},
   "outputs": [],
   "source": [
    "rm /sw/mcs/wfc/datasets/downloads/737bc15ea4440e012d868c6f61efb6f4b91e4176bc22853a1bb864d9c2448022"
   ]
  },
  {
   "cell_type": "code",
   "execution_count": 32,
   "metadata": {},
   "outputs": [
    {
     "data": {
      "text/plain": [
       "'/home/as9kc/code/wfc-hons'"
      ]
     },
     "execution_count": 32,
     "metadata": {},
     "output_type": "execute_result"
    }
   ],
   "source": [
    "pwd"
   ]
  },
  {
   "cell_type": "code",
   "execution_count": null,
   "metadata": {},
   "outputs": [
    {
     "name": "stdout",
     "output_type": "stream",
     "text": [
      "Downloading and preparing dataset wiki_fact_check/plain_text (download: Unknown size, generated: Unknown size, post-processed: Unknown size, total: Unknown size) to /sw/mcs/wfc/datasets/wiki_fact_check/plain_text/1.0.0/983db7773d9f6990528f9ac3a0effd93e193f1fe120d4bb07b6194392c25d4dc...\n",
      "INFO: {'train': '/sw/mcs/wfc/datasets/downloads/737bc15ea4440e012d868c6f61efb6f4b91e4176bc22853a1bb864d9c2448022', 'dev': '/sw/mcs/wfc/datasets/downloads/7a674645a64b0dea3de87f545b162a0d8f60d2396ad75ff3203a76259f84c52f'}\n"
     ]
    },
    {
     "data": {
      "application/vnd.jupyter.widget-view+json": {
       "model_id": "e28a8821d2dd445aae4fc1a12a58fd73",
       "version_major": 2,
       "version_minor": 0
      },
      "text/plain": [
       "HBox(children=(FloatProgress(value=1.0, bar_style='info', max=1.0), HTML(value='')))"
      ]
     },
     "metadata": {},
     "output_type": "display_data"
    },
    {
     "name": "stdout",
     "output_type": "stream",
     "text": [
      "ERROR: skipping line. 102\thttp://bjs.ojp.usdoj.gov/content/pub/pdf/csllea08.pdf\t\"This was the highest murder rate on a per capita basis ever recorded. In 2008, Maryland had 142 state and local law enforcement agencies. Those agencies employed a total of 21,267 staff. Of the total staff, 16,013 were sworn officers (defined as those with general arrest powers). \t\"\t464\tIn 2008, Maryland had more police officers per capita than any other state:  483 per 100,000 residents.\tIn 2008, Maryland had 283 police officers per 100,000 residents.\t2c9b94566ff0be1c7410f2dcb2269a0a.txt\n",
      "\n",
      "ERROR: skipping line. 535\thttps://rm.coe.int/CoERMPublicCommonSearchServices/DisplayDCTMContent?documentId=0900001680694552\t\"Portugal's HIV/AIDS rate is, at 0.6% of adults (aged 15-49), one of the highest in Europe. Since 2001, immigrants in Portugal are entitled to free health care, including free care during pregnancy and postnatal period, as well as use of family planning facilities, regardless of their legal immigration status - this policy is deemed important because HIV/AIDS is prevalent among some immigrant groups. The literacy rate is still lower for women compared to men: the literacy rate is 94% for females (aged 15 or older, data from 2011), while for males it is 97%. \t Domestic violence is illegal in Portugal.\"\t19368\tIt is not considered a crime in Portugal.\tIt is specifically addressed by Article 152 of the Criminal Code of Portugal.\t2d8f107f9e9609f1c515c25c95ff9724.txt\n",
      "\n",
      "ERROR: skipping line. 788\thttp://www.ethanham.com/docs/chance.pdf\t\"\t Erik Sommer (born February 25, 1978) is an American contemporary artist living in New York City. Best known for his weathered canvases and cement installations, his work is often compared to abandoned buildings, eroding stone or forgotten structures. The layers of his paintings peel off the supports, while his cement installations recreate scenes that feel to have been recently abandoned.\"\t20407\tSommer has been exhibiting in only group shows since 2006.\tSommer has been exhibiting in both solo and group shows since 2006.\tb1f128c1a881e3362829d678e2eec86d.txt\n",
      "\n",
      "ERROR: skipping line. 1991\thttp://www.ibr-bbr.org/files/bbr/BBR_2001b_04_McKnight_JesusTwelve.pdf\t\"Their copper-plate grants bear an emblem of the Sun and on their seals too, this symbol is depicted. \tAccording to one hypothesis about Christmas, it was set to 25 December because it was the date of the festival of Sol Invictus. This idea became popular especially in the 18th and 19th centuries. Another speculation connects the biblical elements of Christ's life to those of a sun god.\"\t25636\tThe Christian gospels claim that Jesus had 22 followers.\tThe Christian gospels report that Jesus had 12 followers.\t937871eb2f4478fa84b89f11d6841b6a.txt\n",
      "\n",
      "ERROR: skipping line. 2294\thttp://www.saha.org.za/resources/docs/FreedomHouse.pdf\t\"As one of the first Internet Service Providers in South Africa, MWEB launched dial-up internet in South Africa with the Big Black Box in 1997, which was issued with a copy of tech expert Arthur Goldstuck's Hitchhiker's Guide to the Internet, the bestselling tech book in South Africa at the time. In 2004 it also launched Polka, a low cost ISP. A year later, the South African division of Italian-owned ISP Tiscali was acquired by MWEB. In 2006\tits 3G mobile data offerings were launched and the company resold products from two of SA's largest mobile networks.\"\t27056\tThe company was later first to release Uncapped ADSL in South Africa, in 2011\tThe company was later first to launch Uncapped ADSL in South Africa, in 2010\t746e51e60266027117c14129168a2618.txt\n",
      "\n",
      "ERROR: skipping line. 3371\thttp://www.credit-union.coop/images/library/documents/26052011-155439.pdf\t\"London Capital Credit Union Limited is a not-for-profit member-owned financial co-operative, based in Archway and operating in the City of London and north London boroughs of Barnet, Camden, Hackney, Haringey and Islington.\tFounded in 1997, by 2014, the credit union had over 11,000 members and assets in excess of £7m. A small permanent staff are supported by a team of volunteer Member Services Assistants. Islington Council Employees Credit Union was originally established in 1997, to provide secure savings and low cost flexible loans for employees of Islington Council.\"\t31938\tIt was never the Islington and City Credit Union.\tIt became Islington and City Credit Union in 2007\t50ffd8b12f5a4a64db60adbcaea33257.txt\n",
      "\n",
      "ERROR: skipping line. 4334\thttps://www.uscis.gov/sites/default/files/USCIS/Resources/Reports%20and%20Studies/H-1B/H-1B-FY-2015-Petitions.pdf\t\"\tThe H-1B is a visa in the United States under the Immigration and Nationality Act, section 101(a)(15)(H) which allows U.S. employers to employ foreign worker s in specialty occupations. If a foreign worker in H-1B status quits or is dismissed from the sponsoring employer, the worker must either apply for and be granted a change of status, find another employer (subject to application for adjustment of status and/or change of visa), or leave the United States. Effective January 17, 2017, USCIS modified the rules to allow a grace period of up to 60 days but in practice as long as a green card application is pending they are allowed to stay.\"\t36483\tIn 2015, there were 883 applicants for the H-1B filed of which only 2 were approved.\tIn 2015, there were 348,669 applicants for the H-1B filed of which 275,317 were approved.\tb9e9a60c5f646b076dc236c61ec39fa5.txt\n",
      "\n"
     ]
    }
   ],
   "source": [
    "dataset = datasets.load_dataset('./data/wikifactcheck', split='train',\n",
    "                                cache_dir='/sw/mcs/wfc/datasets/')"
   ]
  }
 ],
 "metadata": {
  "kernelspec": {
   "display_name": "Python (nlu)",
   "language": "python",
   "name": "nlu"
  },
  "language_info": {
   "codemirror_mode": {
    "name": "ipython",
    "version": 3
   },
   "file_extension": ".py",
   "mimetype": "text/x-python",
   "name": "python",
   "nbconvert_exporter": "python",
   "pygments_lexer": "ipython3",
   "version": "3.7.5"
  }
 },
 "nbformat": 4,
 "nbformat_minor": 4
}
