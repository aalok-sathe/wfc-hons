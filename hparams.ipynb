{
 "cells": [
  {
   "cell_type": "code",
   "execution_count": 1,
   "metadata": {},
   "outputs": [],
   "source": [
    "from itertools import product, permutations\n",
    "from subprocess import Popen"
   ]
  },
  {
   "cell_type": "code",
   "execution_count": 2,
   "metadata": {},
   "outputs": [],
   "source": [
    "from random import randint, shuffle"
   ]
  },
  {
   "cell_type": "code",
   "execution_count": 3,
   "metadata": {},
   "outputs": [],
   "source": [
    "models = [\n",
    "#         \"aloxatel/bert-base-mnli\", \n",
    "#           \"textattack/bert-base-uncased-CoLA\", \n",
    "#           \"textattack/bert-base-uncased-RTE\", \n",
    "# #           \"aloxatel/mbert\", \n",
    "          \"bert-base-uncased\",\n",
    "#           \"deepset/bert-base-cased-squad2\",\n",
    "#           \"textattack/roberta-base-MNLI\",\n",
    "         ]\n",
    "k_vals = [1,3,5]\n",
    "logging_steps_vals = [50]\n",
    "epochs_vals = [3]\n",
    "warmup_steps = [50]\n",
    "grad_acc_steps_vals = [16]\n",
    "lrs = [#1e-4, \n",
    "       5e-5]\n",
    "ld = ['', '--levenshtein_only']\n",
    "# ctxs = [\n",
    "# #     \"\", \n",
    "#         \"--include_context\"\n",
    "#        ]"
   ]
  },
  {
   "cell_type": "code",
   "execution_count": 4,
   "metadata": {},
   "outputs": [
    {
     "name": "stdout",
     "output_type": "stream",
     "text": [
      "    conda activate wfc;     cd ~/wfc-hons;     CUDA_VISIBLE_DEVICES=1,0,2     ./run_wfc.py --model_name_or_path bert-base-uncased --do_train --do_eval --output_dir out_fever_dbg     --top_k 1 --logging_steps 50 --num_train_epochs 3 --warmup_steps 50 --gradient_accumulation_steps 16     --learning_rate 5e-05  --overwrite_output_dir --maxnum 30000           \n",
      "\n",
      "    conda activate wfc;     cd ~/wfc-hons;     CUDA_VISIBLE_DEVICES=2,0,1     ./run_wfc.py --model_name_or_path bert-base-uncased --do_train --do_eval --output_dir out_fever_dbg     --top_k 1 --logging_steps 50 --num_train_epochs 3 --warmup_steps 50 --gradient_accumulation_steps 16     --learning_rate 5e-05 --levenshtein_only --overwrite_output_dir --maxnum 30000           \n",
      "\n",
      "    conda activate wfc;     cd ~/wfc-hons;     CUDA_VISIBLE_DEVICES=1,3,0     ./run_wfc.py --model_name_or_path bert-base-uncased --do_train --do_eval --output_dir out_fever_dbg     --top_k 3 --logging_steps 50 --num_train_epochs 3 --warmup_steps 50 --gradient_accumulation_steps 16     --learning_rate 5e-05  --overwrite_output_dir --maxnum 30000           \n",
      "\n",
      "    conda activate wfc;     cd ~/wfc-hons;     CUDA_VISIBLE_DEVICES=3,1,2     ./run_wfc.py --model_name_or_path bert-base-uncased --do_train --do_eval --output_dir out_fever_dbg     --top_k 3 --logging_steps 50 --num_train_epochs 3 --warmup_steps 50 --gradient_accumulation_steps 16     --learning_rate 5e-05 --levenshtein_only --overwrite_output_dir --maxnum 30000           \n",
      "\n",
      "    conda activate wfc;     cd ~/wfc-hons;     CUDA_VISIBLE_DEVICES=2,3,0     ./run_wfc.py --model_name_or_path bert-base-uncased --do_train --do_eval --output_dir out_fever_dbg     --top_k 5 --logging_steps 50 --num_train_epochs 3 --warmup_steps 50 --gradient_accumulation_steps 16     --learning_rate 5e-05  --overwrite_output_dir --maxnum 30000           \n",
      "\n",
      "    conda activate wfc;     cd ~/wfc-hons;     CUDA_VISIBLE_DEVICES=1,3,2     ./run_wfc.py --model_name_or_path bert-base-uncased --do_train --do_eval --output_dir out_fever_dbg     --top_k 5 --logging_steps 50 --num_train_epochs 3 --warmup_steps 50 --gradient_accumulation_steps 16     --learning_rate 5e-05 --levenshtein_only --overwrite_output_dir --maxnum 30000           \n"
     ]
    }
   ],
   "source": [
    "prod = product(\n",
    "    models,\n",
    "    k_vals, \n",
    "    logging_steps_vals,\n",
    "    epochs_vals,\n",
    "    warmup_steps,\n",
    "    grad_acc_steps_vals,\n",
    "    lrs,\n",
    "    ld#ctxs\n",
    ")\n",
    "prod = [*prod]\n",
    "devices = [*permutations('0123', 3)]\n",
    "shuffle(devices)\n",
    "\n",
    "cmds = []\n",
    "for i, (model, k, logging_steps, epochs, warmup, grad_acc_steps, lr, ctx) in enumerate(prod):\n",
    "    dev = devices[i%len(devices)]\n",
    "    cmd = f'''\\\n",
    "    conda activate wfc; \\\n",
    "    cd ~/wfc-hons; \\\n",
    "    CUDA_VISIBLE_DEVICES={','.join(dev)} \\\n",
    "    ./run_wfc.py --model_name_or_path {model} --do_train --do_eval --output_dir out_fever_dbg \\\n",
    "    --top_k {k} --logging_steps {logging_steps} --num_train_epochs {epochs} --warmup_steps {warmup} --gradient_accumulation_steps {grad_acc_steps} \\\n",
    "    --learning_rate {lr} {ctx} --overwrite_output_dir --maxnum {30_000} \\\n",
    "          '''\n",
    "#     print(cmd)\n",
    "    cmds += [cmd]\n",
    "    \n",
    "print(*cmds, sep='\\n\\n')"
   ]
  },
  {
   "cell_type": "code",
   "execution_count": 5,
   "metadata": {},
   "outputs": [
    {
     "data": {
      "text/plain": [
       "6"
      ]
     },
     "execution_count": 5,
     "metadata": {},
     "output_type": "execute_result"
    }
   ],
   "source": [
    "len(cmds)"
   ]
  },
  {
   "cell_type": "code",
   "execution_count": 6,
   "metadata": {},
   "outputs": [],
   "source": [
    "# cmds = [' conda activate wfc;     cd ~/wfc-hons;     CUDA_VISIBLE_DEVICES=0,1,2     ./run_wfc.py --model_name_or_path bert-base-uncased --do_train --do_eval --output_dir out_apr28     --top_k 5 --logging_steps 50 --num_train_epochs 2 --warmup_steps 50 --gradient_accumulation_steps 4     --learning_rate 5e-05  --overwrite_output_dir --maxnum 10000           ']"
   ]
  },
  {
   "cell_type": "code",
   "execution_count": 7,
   "metadata": {},
   "outputs": [],
   "source": [
    "# for i in range(0, len(cmds), 4):\n",
    "processes = [Popen(cmd , shell=True) for cmd in cmds[:]]\n",
    "    # do other things here..\n",
    "    # wait for completion\n",
    "    # for p in processes: p.wait()"
   ]
  },
  {
   "cell_type": "code",
   "execution_count": null,
   "metadata": {},
   "outputs": [],
   "source": [
    "for p in processes: p.kill(9)"
   ]
  }
 ],
 "metadata": {
  "kernelspec": {
   "display_name": "Python 3",
   "language": "python",
   "name": "python3"
  },
  "language_info": {
   "codemirror_mode": {
    "name": "ipython",
    "version": 3
   },
   "file_extension": ".py",
   "mimetype": "text/x-python",
   "name": "python",
   "nbconvert_exporter": "python",
   "pygments_lexer": "ipython3",
   "version": "3.8.5"
  }
 },
 "nbformat": 4,
 "nbformat_minor": 4
}
