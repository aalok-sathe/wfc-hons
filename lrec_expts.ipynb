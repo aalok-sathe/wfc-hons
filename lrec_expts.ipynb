{
 "cells": [
  {
   "cell_type": "markdown",
   "metadata": {},
   "source": [
    "# WikiNLI experiments"
   ]
  },
  {
   "cell_type": "markdown",
   "metadata": {},
   "source": [
    "### In this notebook, we'll run experiments to try to perform textual entailment using SVM and Logistic Regression"
   ]
  },
  {
   "cell_type": "markdown",
   "metadata": {},
   "source": [
    "**imports**"
   ]
  },
  {
   "cell_type": "code",
   "execution_count": 1,
   "metadata": {},
   "outputs": [],
   "source": [
    "# stdlib\n",
    "from pathlib import Path\n",
    "import json\n",
    "import random\n",
    "import itertools\n",
    "from collections import Counter, namedtuple\n",
    "from functools import lru_cache, wraps\n",
    "import pickle\n",
    "\n",
    "# packages\n",
    "from tqdm import tqdm_notebook as tqdm\n",
    "import textwrap\n",
    "from textdistance import levenshtein, cosine\n",
    "from matplotlib import pyplot as plt\n",
    "import numpy as np\n",
    "import scipy.stats\n",
    "\n",
    "# ML\n",
    "from sklearn.model_selection import train_test_split, cross_val_score, GridSearchCV\n",
    "from sklearn import svm, linear_model\n",
    "from sklearn.feature_extraction import DictVectorizer\n",
    "# nltk\n",
    "import nltk\n",
    "from nltk.tokenize import PunktSentenceTokenizer\n",
    "from nltk.sentiment import SentimentAnalyzer\n",
    "from nltk.classify import NaiveBayesClassifier\n",
    "from nltk.corpus import sentiwordnet as swn, wordnet as wn"
   ]
  },
  {
   "cell_type": "markdown",
   "metadata": {},
   "source": [
    "### define what an 'entry' should look like"
   ]
  },
  {
   "cell_type": "code",
   "execution_count": 2,
   "metadata": {},
   "outputs": [],
   "source": [
    "Entry = namedtuple('Entry', sorted(['negation', 'evidence', 'context', 'url', 'id', 'claim', 'wikipageid']))"
   ]
  },
  {
   "cell_type": "markdown",
   "metadata": {},
   "source": [
    "#### load train/test data"
   ]
  },
  {
   "cell_type": "code",
   "execution_count": 3,
   "metadata": {},
   "outputs": [
    {
     "name": "stdout",
     "output_type": "stream",
     "text": [
      "loaded 17043 entries from the annotated train set\n",
      "loaded 7305 entries from the annotated dev set\n"
     ]
    }
   ],
   "source": [
    "trainpath = Path('../out2/db_3_annot_train.jsonl')\n",
    "testpath = Path('../out2/db_3_annot_test.jsonl')\n",
    "with trainpath.open('r') as f:\n",
    "    entries = [Entry(**json.loads(line[:-1])) for line in f]\n",
    "# with testpath.open('r') as f:\n",
    "#     test = [Entry(**json.loads(line[:-1])) for line in f]\n",
    "# DO NOT USE ACTUAL TEST SET; USE 30% of the train set as dev set instead\n",
    "trainsize = int(len(entries)*.7)\n",
    "train, test = entries[:trainsize], entries[trainsize:]\n",
    "print('loaded {} entries from the annotated train set'.format(len(train)))\n",
    "print('loaded {} entries from the annotated dev set'.format(len(test)))"
   ]
  },
  {
   "cell_type": "code",
   "execution_count": 4,
   "metadata": {},
   "outputs": [],
   "source": [
    "punkt = PunktSentenceTokenizer()\n",
    "# @lru_cache(maxsize=None)\n",
    "def get_evidence(entry):\n",
    "    '''\n",
    "    retrieves evidence and returns generator of sentences from it\n",
    "    '''\n",
    "    prefix = '../refdata/wiki-refdata'\n",
    "    evidencefile = Path(prefix) / entry.evidence\n",
    "    try:\n",
    "        with evidencefile.open('r', errors='ignore') as f:\n",
    "            text = f.read()\n",
    "        for item in punkt.tokenize(text):\n",
    "            yield item\n",
    "    except (FileNotFoundError, OSError) as e:\n",
    "        print(entry.id, entry.evidence)\n",
    "        raise"
   ]
  },
  {
   "cell_type": "code",
   "execution_count": 5,
   "metadata": {},
   "outputs": [],
   "source": [
    "def get_relevant(claim, evids_generator, top=5, algorithm=levenshtein):\n",
    "    '''\n",
    "    picks the top so many sentences from evidence file that are relevant to the claim.\n",
    "    algorithm must be an instance of some textdistance class with the method\n",
    "    'normalized_distance' that returns a number between (0,1) with two strings as input.\n",
    "    returns the top n most relevant sentences and the score of the most relevant\n",
    "    '''\n",
    "    distfn = lambda candidate: algorithm.normalized_distance(claim, candidate)\n",
    "    \n",
    "    smallest_dist = float('+inf')\n",
    "    evids = [*evids_generator]\n",
    "    for evid in evids:\n",
    "        dist = distfn(evid)\n",
    "        smallest_dist = min(smallest_dist, dist)\n",
    "\n",
    "    return [*sorted(evids, key=distfn)][:top], smallest_dist"
   ]
  },
  {
   "cell_type": "code",
   "execution_count": 6,
   "metadata": {},
   "outputs": [],
   "source": [
    "def plot_coefficients(classifier, feature_names, top_features=20, desc=''):\n",
    "    '''\n",
    "    a convenient method to visualize top features a classifier relies on.\n",
    "    borrowed from:\n",
    "    # https://medium.com/@aneesha/\n",
    "       visualising-top-features-in-linear-svm-with-scikit-learn-and-matplotlib-3454ab18a14\n",
    "    '''\n",
    "    coef = classifier.coef_.ravel()\n",
    "    top_positive_coefficients = np.argsort(coef)[-top_features:]\n",
    "    top_negative_coefficients = np.argsort(coef)[:top_features]\n",
    "    top_coefficients = np.hstack([top_negative_coefficients, top_positive_coefficients])\n",
    "    # create plot\n",
    "    plt.figure(figsize=(15, 5))\n",
    "    plt.title(desc)\n",
    "    colors = ['red' if c < 0 else 'blue' for c in coef[top_coefficients]]\n",
    "    plt.bar(np.arange(2 * top_features), coef[top_coefficients], color=colors)\n",
    "    feature_names = np.array(feature_names)\n",
    "    plt.xticks(np.arange(0, 2 * top_features), feature_names[top_coefficients], rotation=60, ha='right')\n",
    "    plt.show()"
   ]
  },
  {
   "cell_type": "markdown",
   "metadata": {},
   "source": [
    "#### Loading the data from our dataset"
   ]
  },
  {
   "cell_type": "code",
   "execution_count": 7,
   "metadata": {},
   "outputs": [],
   "source": [
    "def get_train_repertoire(maxlen=float('inf')):\n",
    "    trainlen = len(train)\n",
    "    trainlen = min(maxlen, trainlen)\n",
    "    return train[:trainlen]\n",
    "    return [train[:trainlen//2], train[trainlen//2:2*(trainlen//2)]]\n",
    "    \n",
    "def get_test_repertoire(maxlen=float('inf')):\n",
    "    testlen = len(test)\n",
    "    testlen = min(maxlen, testlen)\n",
    "    return test[:testlen]\n",
    "    return [test[:testlen//2], test[testlen//2:2*(testlen//2)]]"
   ]
  },
  {
   "cell_type": "markdown",
   "metadata": {},
   "source": [
    "### Preprocessing"
   ]
  },
  {
   "cell_type": "code",
   "execution_count": 8,
   "metadata": {},
   "outputs": [],
   "source": [
    "def tokenize(claim, ev):\n",
    "    '''\n",
    "    tokenizes two sentences and returns in a list\n",
    "    '''\n",
    "    return nltk.word_tokenize(claim.lower()), nltk.word_tokenize(ev.lower())\n",
    "\n",
    "def pos_tag(claim, ev):\n",
    "    '''\n",
    "    returns two lists one each for claim and evidence\n",
    "    formatted like so: [(token, POS_tag), ...]\n",
    "    '''\n",
    "    return nltk.pos_tag(claim), nltk.pos_tag(ev)\n",
    "\n",
    "def word_difference(claim, ev):\n",
    "    '''\n",
    "    a method to take the symmetric difference between two lists of\n",
    "    (token, POS) pairs, one each for the claim and evidence-sentence.\n",
    "    returns in the same format but with only the words in symmetric\n",
    "    difference (disregards tag in computing the symmetric difference)\n",
    "    '''\n",
    "    w1 = set([e[0] for e in claim])\n",
    "    w2 = set([e[0] for e in ev])\n",
    "    diff = w1.symmetric_difference(w2)\n",
    "    claim = [e for e in claim if e[0] in diff]\n",
    "    ev = [e for e in ev if e[0] in diff]\n",
    "    return claim, ev\n",
    "\n",
    "def preprocess(claim, ev):\n",
    "    claim, ev = tokenize(claim, ev)\n",
    "    claim, ev = pos_tag(claim, ev)\n",
    "    claim, ev = word_difference(claim, ev)\n",
    "    return claim, ev"
   ]
  },
  {
   "cell_type": "markdown",
   "metadata": {},
   "source": [
    "### Feature extraction"
   ]
  },
  {
   "cell_type": "code",
   "execution_count": 9,
   "metadata": {},
   "outputs": [],
   "source": [
    "sentim_analyzer = SentimentAnalyzer()\n",
    "\n",
    "def nltkpos_to_wn(tag):\n",
    "    '''\n",
    "    convert NLTK part-of-speech tag to one of the four WordNet tags (or None)\n",
    "    '''\n",
    "    if 'NN' in tag:\n",
    "        return wn.NOUN\n",
    "    if 'VB' in tag:\n",
    "        return wn.VERB\n",
    "    if 'RB' in tag:\n",
    "        return wn.ADV\n",
    "    if 'JJ' in tag:\n",
    "        return wn.ADJ\n",
    "    return None\n",
    "\n",
    "def antonym(claim, ev):\n",
    "    '''\n",
    "    provides an antonym similarity score measuring:\n",
    "    how similar are words in one collection to antonyms in another\n",
    "    '''\n",
    "    antC = []\n",
    "    synC = []\n",
    "    antE = []\n",
    "    synE = []\n",
    "    for w, pos in claim:\n",
    "        wnpos = nltkpos_to_wn(pos)\n",
    "        try:\n",
    "            synC += [wn.synsets(w, pos=wnpos)[0]]\n",
    "        except IndexError:\n",
    "            continue\n",
    "    for w, pos in ev:\n",
    "        wnpos = nltkpos_to_wn(pos)\n",
    "        try:\n",
    "            synE += [wn.synsets(w, pos=wnpos)[0]]\n",
    "        except IndexError:\n",
    "            continue\n",
    "    for syn in synC:\n",
    "        try:\n",
    "            antC += [syn.lemmas()[0].antonyms()[0].synset()]\n",
    "        except IndexError:\n",
    "            continue\n",
    "    for syn in synE:\n",
    "        try:\n",
    "            antE += [syn.lemmas()[0].antonyms()[0].synset()]\n",
    "        except IndexError:\n",
    "            continue\n",
    "    \n",
    "    total = 0\n",
    "    totalsim = 0\n",
    "    maxsim = 0\n",
    "    for a, s in itertools.product(antC, synE):\n",
    "        total += 1\n",
    "        sim = wn.path_similarity(a, s) or 0\n",
    "        totalsim += sim\n",
    "        maxsim = max(maxsim, sim)\n",
    "    for a, s in itertools.product(synC, antE):\n",
    "        total += 1\n",
    "        sim = wn.path_similarity(a, s) or 0\n",
    "        totalsim += sim\n",
    "        maxsim = max(maxsim, sim)\n",
    "    \n",
    "    return totalsim/max(1, total), maxsim\n",
    "\n",
    "\n",
    "def sentiment(claim, ev):\n",
    "    '''\n",
    "    takes in two collections, one for the claim and another for evidence\n",
    "    retuns [1] the avg sentiment in claim, [2] the max sentiment in claim, \n",
    "    and [3] the difference between the avg claim sentiment and avg ev sentiment\n",
    "    '''\n",
    "    synC = []\n",
    "    synE = []\n",
    "    for w, pos in claim:\n",
    "        wnpos = nltkpos_to_wn(pos)\n",
    "        try:\n",
    "            synC += [[*swn.senti_synsets(w, pos=wnpos)][0]]\n",
    "        except IndexError:\n",
    "            continue\n",
    "    for w, pos in ev:\n",
    "        wnpos = nltkpos_to_wn(pos)\n",
    "        try:\n",
    "            synE += [[*swn.senti_synsets(w, pos=wnpos)][0]]\n",
    "        except IndexError:\n",
    "            continue\n",
    "            \n",
    "    total = 0\n",
    "    totalsen = 0\n",
    "    maxsen = 0\n",
    "    avgsen = None\n",
    "    for a in synC:\n",
    "        total += 1\n",
    "        sen = a.pos_score() - a.neg_score()\n",
    "        totalsen += sen\n",
    "        maxsen = max(maxsen, sen)\n",
    "    avgsen = totalsen/max(1, total)\n",
    "    #\n",
    "    \n",
    "    total = 0\n",
    "    totaldiff = 0\n",
    "    maxdiff = 0\n",
    "    sumC = sum(a.pos_score()-a.neg_score() for a in synC)/max(1, len(synC))\n",
    "    sumE = sum(a.pos_score()-a.neg_score() for a in synE)/max(1, len(synE))\n",
    "    \n",
    "    return avgsen, maxsen, sumC-sumE\n",
    "    \n",
    "    \n",
    "def swnscore(tokens):\n",
    "    '''\n",
    "    returns the absolute sentiment (pos minus neg) of a collection of tokens\n",
    "    '''\n",
    "    pos, neg, obj = 0, 0, 0\n",
    "    for token in tokens:\n",
    "        for s in swn.senti_synsets(token):\n",
    "            pos += s.pos_score()\n",
    "            neg += s.neg_score()\n",
    "    return pos - neg\n",
    "\n",
    "\n",
    "def discretesentifeature(claim, ev):\n",
    "    '''\n",
    "    returns 1 if both, claim and evidence have the same overall sentiment\n",
    "    label (i.e., 1 if both are positive or both negative) and 0 otherwise\n",
    "    '''\n",
    "    cscore = swnscore(claim)\n",
    "    escore = swnscore(claim)\n",
    "    return 1 if cscore*escore > 0 else 0\n",
    "    \n",
    "\n",
    "def unigrams(claim, ev):\n",
    "    # sentim_analyzer.extract_features('this is more text')\n",
    "    # print(claim.union(ev))\n",
    "    words = [e[0] for e in claim+ev]\n",
    "    return sentim_analyzer.unigram_word_feats(words, top_n=1)\n",
    "\n",
    "def wordpair(claim, ev):\n",
    "    # cartesian product of two iterables\n",
    "    c = [e[0] for e in claim]\n",
    "    e = [e[0] for e in ev]\n",
    "    return set(itertools.product(c, e))\n"
   ]
  },
  {
   "cell_type": "code",
   "execution_count": null,
   "metadata": {},
   "outputs": [],
   "source": [
    "@lru_cache(maxsize=None)\n",
    "def get_features(entry, label):\n",
    "    claim = entry.claim if label == 1 else entry.negation\n",
    "    ([ev], score) = get_relevant(claim, get_evidence(entry), top=1)\n",
    "    \n",
    "    claim, ev = preprocess(claim, ev)\n",
    "    fwordpair = {str(p): 1 for p in wordpair(claim, ev)}\n",
    "    fsentiment = sentiment(claim, ev)\n",
    "    fantonym = antonym(claim, ev)\n",
    "    \n",
    "    return claim, [fwordpair, fsentiment, fantonym]"
   ]
  },
  {
   "cell_type": "code",
   "execution_count": 18,
   "metadata": {},
   "outputs": [],
   "source": [
    "def make_featureset(entry, label=1, exclude=[]):\n",
    "    '''\n",
    "    a method to aggregate and extract features from our dataset,\n",
    "    and return them in a tidy manner so that we can run experiments\n",
    "    \n",
    "    the method isn't actually passed any data, but only a slice that it\n",
    "    will use together with \n",
    "    '''\n",
    "    claim, [fwordpair, fsentiment, fantonym] = get_features(entry, label)\n",
    "    \n",
    "    fset = dict()\n",
    "    if 'wordpair' not in exclude: \n",
    "        fset.update(fwordpair)\n",
    "    if 'sentiment' not in exclude:\n",
    "        avgsen, maxsen, diffsen = fsentiment\n",
    "        fset.update({'avgsen': avgsen, 'maxsen': maxsen, 'diffsen': diffsen})\n",
    "    if 'antonym' not in exclude:\n",
    "        avgant, maxant = fantonym\n",
    "        fset.update({'avgant': avgant, 'maxant': maxant})\n",
    "        \n",
    "    return fset\n",
    "    \n",
    "    \n",
    "def featurize(maxlen=float('inf'), label=1, task='train', exclude=[], mode='dev'):\n",
    "    '''\n",
    "    a wrapper method that goes through entries and calls get_features on\n",
    "    each one. the advantage is that get_features is a cached method, so\n",
    "    hopefully this saves time in the same session and across multiple runs\n",
    "    '''\n",
    "    if mode == 'dev':\n",
    "        get_data = get_train_repertoire if task == 'train' else get_test_repertoire\n",
    "    else:\n",
    "        raise ValueError('test set unavailable like this. please modify cells above')\n",
    "    fsets = []\n",
    "    for entry in tqdm(get_data(maxlen=maxlen), \n",
    "                      desc='making fset for size={} label={}, task={}'.format(maxlen, label, task)):\n",
    "        try:\n",
    "            fset = make_featureset(entry, label, exclude)\n",
    "        except (FileNotFoundError, OSError) as e:\n",
    "            continue\n",
    "        fsets += [(fset, label)]\n",
    "        \n",
    "    random.shuffle(fsets)\n",
    "    return fsets"
   ]
  },
  {
   "cell_type": "code",
   "execution_count": 19,
   "metadata": {},
   "outputs": [
    {
     "name": "stdout",
     "output_type": "stream",
     "text": [
      "0\n"
     ]
    },
    {
     "data": {
      "application/vnd.jupyter.widget-view+json": {
       "model_id": "4a803488568445b6ac91eae571ff74ad",
       "version_major": 2,
       "version_minor": 0
      },
      "text/plain": [
       "HBox(children=(IntProgress(value=0, description='making fset for size=inf label=0, task=train', max=17043, sty…"
      ]
     },
     "metadata": {},
     "output_type": "display_data"
    },
    {
     "data": {
      "application/vnd.jupyter.widget-view+json": {
       "model_id": "2e0464d7a3854d9ba3b9328baba977d2",
       "version_major": 2,
       "version_minor": 0
      },
      "text/plain": [
       "HBox(children=(IntProgress(value=0, description='making fset for size=inf label=1, task=train', max=17043, sty…"
      ]
     },
     "metadata": {},
     "output_type": "display_data"
    },
    {
     "name": "stdout",
     "output_type": "stream",
     "text": [
      "1\n"
     ]
    },
    {
     "data": {
      "application/vnd.jupyter.widget-view+json": {
       "model_id": "0ce94e55d5ea46e0ad12209f9bb902dd",
       "version_major": 2,
       "version_minor": 0
      },
      "text/plain": [
       "HBox(children=(IntProgress(value=0, description='making fset for size=inf label=0, task=train', max=17043, sty…"
      ]
     },
     "metadata": {},
     "output_type": "display_data"
    },
    {
     "data": {
      "application/vnd.jupyter.widget-view+json": {
       "model_id": "5330f92b140e4f2fa6c9666cee6518dd",
       "version_major": 2,
       "version_minor": 0
      },
      "text/plain": [
       "HBox(children=(IntProgress(value=0, description='making fset for size=inf label=1, task=train', max=17043, sty…"
      ]
     },
     "metadata": {},
     "output_type": "display_data"
    },
    {
     "name": "stdout",
     "output_type": "stream",
     "text": [
      "2\n"
     ]
    },
    {
     "data": {
      "application/vnd.jupyter.widget-view+json": {
       "model_id": "55a83e8faae943c49dcfb581082bc0da",
       "version_major": 2,
       "version_minor": 0
      },
      "text/plain": [
       "HBox(children=(IntProgress(value=0, description='making fset for size=inf label=0, task=train', max=17043, sty…"
      ]
     },
     "metadata": {},
     "output_type": "display_data"
    },
    {
     "data": {
      "application/vnd.jupyter.widget-view+json": {
       "model_id": "7a701d251a2a41dca3946326e54ae739",
       "version_major": 2,
       "version_minor": 0
      },
      "text/plain": [
       "HBox(children=(IntProgress(value=0, description='making fset for size=inf label=1, task=train', max=17043, sty…"
      ]
     },
     "metadata": {},
     "output_type": "display_data"
    },
    {
     "name": "stdout",
     "output_type": "stream",
     "text": [
      "3\n"
     ]
    },
    {
     "data": {
      "application/vnd.jupyter.widget-view+json": {
       "model_id": "e7d5e587b0da4496a75373dbc97670b2",
       "version_major": 2,
       "version_minor": 0
      },
      "text/plain": [
       "HBox(children=(IntProgress(value=0, description='making fset for size=inf label=0, task=train', max=17043, sty…"
      ]
     },
     "metadata": {},
     "output_type": "display_data"
    },
    {
     "data": {
      "application/vnd.jupyter.widget-view+json": {
       "model_id": "4f8ddcb30ee346f4ab8244c57f4a7bc0",
       "version_major": 2,
       "version_minor": 0
      },
      "text/plain": [
       "HBox(children=(IntProgress(value=0, description='making fset for size=inf label=1, task=train', max=17043, sty…"
      ]
     },
     "metadata": {},
     "output_type": "display_data"
    },
    {
     "name": "stdout",
     "output_type": "stream",
     "text": [
      "4\n"
     ]
    },
    {
     "data": {
      "application/vnd.jupyter.widget-view+json": {
       "model_id": "b4d151d94a3544c89eb8fa3730a024c8",
       "version_major": 2,
       "version_minor": 0
      },
      "text/plain": [
       "HBox(children=(IntProgress(value=0, description='making fset for size=inf label=0, task=train', max=17043, sty…"
      ]
     },
     "metadata": {},
     "output_type": "display_data"
    },
    {
     "data": {
      "application/vnd.jupyter.widget-view+json": {
       "model_id": "74f9febb5ed0459a9f08ddb9494d85b8",
       "version_major": 2,
       "version_minor": 0
      },
      "text/plain": [
       "HBox(children=(IntProgress(value=0, description='making fset for size=inf label=1, task=train', max=17043, sty…"
      ]
     },
     "metadata": {},
     "output_type": "display_data"
    },
    {
     "name": "stdout",
     "output_type": "stream",
     "text": [
      "0\n"
     ]
    },
    {
     "data": {
      "application/vnd.jupyter.widget-view+json": {
       "model_id": "cea702873a564d49af5deb8a648684d4",
       "version_major": 2,
       "version_minor": 0
      },
      "text/plain": [
       "HBox(children=(IntProgress(value=0, description='making fset for size=inf label=0, task=test', max=7305, style…"
      ]
     },
     "metadata": {},
     "output_type": "display_data"
    },
    {
     "data": {
      "application/vnd.jupyter.widget-view+json": {
       "model_id": "fdc7566ecf4a4f1d88c7a46434fb9909",
       "version_major": 2,
       "version_minor": 0
      },
      "text/plain": [
       "HBox(children=(IntProgress(value=0, description='making fset for size=inf label=1, task=test', max=7305, style…"
      ]
     },
     "metadata": {},
     "output_type": "display_data"
    },
    {
     "name": "stdout",
     "output_type": "stream",
     "text": [
      "1\n"
     ]
    },
    {
     "data": {
      "application/vnd.jupyter.widget-view+json": {
       "model_id": "e39baa86b34c479a926f630830700220",
       "version_major": 2,
       "version_minor": 0
      },
      "text/plain": [
       "HBox(children=(IntProgress(value=0, description='making fset for size=inf label=0, task=test', max=7305, style…"
      ]
     },
     "metadata": {},
     "output_type": "display_data"
    },
    {
     "data": {
      "application/vnd.jupyter.widget-view+json": {
       "model_id": "8b03094f46e84c369f7200c506122ffb",
       "version_major": 2,
       "version_minor": 0
      },
      "text/plain": [
       "HBox(children=(IntProgress(value=0, description='making fset for size=inf label=1, task=test', max=7305, style…"
      ]
     },
     "metadata": {},
     "output_type": "display_data"
    },
    {
     "name": "stdout",
     "output_type": "stream",
     "text": [
      "2\n"
     ]
    },
    {
     "data": {
      "application/vnd.jupyter.widget-view+json": {
       "model_id": "bd67f8cdbfdf486c87a6901026895ca5",
       "version_major": 2,
       "version_minor": 0
      },
      "text/plain": [
       "HBox(children=(IntProgress(value=0, description='making fset for size=inf label=0, task=test', max=7305, style…"
      ]
     },
     "metadata": {},
     "output_type": "display_data"
    },
    {
     "data": {
      "application/vnd.jupyter.widget-view+json": {
       "model_id": "66461c843983429da08e4a5ea4252df7",
       "version_major": 2,
       "version_minor": 0
      },
      "text/plain": [
       "HBox(children=(IntProgress(value=0, description='making fset for size=inf label=1, task=test', max=7305, style…"
      ]
     },
     "metadata": {},
     "output_type": "display_data"
    },
    {
     "name": "stdout",
     "output_type": "stream",
     "text": [
      "3\n"
     ]
    },
    {
     "data": {
      "application/vnd.jupyter.widget-view+json": {
       "model_id": "64b9b8cc38e1401db5870f2c0bc984b5",
       "version_major": 2,
       "version_minor": 0
      },
      "text/plain": [
       "HBox(children=(IntProgress(value=0, description='making fset for size=inf label=0, task=test', max=7305, style…"
      ]
     },
     "metadata": {},
     "output_type": "display_data"
    },
    {
     "data": {
      "application/vnd.jupyter.widget-view+json": {
       "model_id": "80b162cc576d438daa7247542795e995",
       "version_major": 2,
       "version_minor": 0
      },
      "text/plain": [
       "HBox(children=(IntProgress(value=0, description='making fset for size=inf label=1, task=test', max=7305, style…"
      ]
     },
     "metadata": {},
     "output_type": "display_data"
    },
    {
     "name": "stdout",
     "output_type": "stream",
     "text": [
      "4\n"
     ]
    },
    {
     "data": {
      "application/vnd.jupyter.widget-view+json": {
       "model_id": "bd0eee0ccefc47eabf37abdcb1dc210f",
       "version_major": 2,
       "version_minor": 0
      },
      "text/plain": [
       "HBox(children=(IntProgress(value=0, description='making fset for size=inf label=0, task=test', max=7305, style…"
      ]
     },
     "metadata": {},
     "output_type": "display_data"
    },
    {
     "data": {
      "application/vnd.jupyter.widget-view+json": {
       "model_id": "0913c6e25a674a318529c0b137efe6cd",
       "version_major": 2,
       "version_minor": 0
      },
      "text/plain": [
       "HBox(children=(IntProgress(value=0, description='making fset for size=inf label=1, task=test', max=7305, style…"
      ]
     },
     "metadata": {},
     "output_type": "display_data"
    }
   ],
   "source": [
    "for task in ['train', 'test']:\n",
    "    for i, excl in enumerate((['sentiment', 'antonym'], ['antonym'], ['sentiment'], ['wordpair'], [])):\n",
    "        print(i)\n",
    "        stuff = featurize(label=0, task=task, exclude=excl) + featurize(label=1, task=task, exclude=excl)\n",
    "        p = Path('cached') / ('_'.join(sorted({'wordpair', 'sentiment', 'antonym'}.difference(set(excl)))) + '_' + task + '.cache')\n",
    "        with p.open('wb') as f:\n",
    "            pickle.dump(stuff, f)\n",
    "        with (Path('cached')/'stats.txt').open('w') as f:\n",
    "            f.write(str(len(stuff)))"
   ]
  },
  {
   "cell_type": "code",
   "execution_count": null,
   "metadata": {},
   "outputs": [],
   "source": [
    "raise"
   ]
  },
  {
   "cell_type": "markdown",
   "metadata": {},
   "source": [
    "### Define an experiment class for easy pipelining and reproducibility"
   ]
  },
  {
   "cell_type": "code",
   "execution_count": 23,
   "metadata": {},
   "outputs": [],
   "source": [
    "param_dist = {'max_iter': [5000],\n",
    "              #'C': scipy.stats.uniform(.1, 5),\n",
    "              'C': np.arange(.2,3.2,.1)}\n",
    "\n",
    "class Experiment:\n",
    "    name = None\n",
    "    baseline = ['wordpair']\n",
    "    addons = ['sentiment', 'antonym']\n",
    "    clf = dict()\n",
    "    vec = dict()\n",
    "    data, test = dict(), dict()\n",
    "    \n",
    "    def __init__(self, name, clfcls=svm.LinearSVC, **kwargs):\n",
    "        self.name = name\n",
    "        self.clfcls = clfcls\n",
    "        self.kwargs = kwargs\n",
    "        \n",
    "    def setup(self, maxlen=2048, exclude=[]):\n",
    "        '''\n",
    "        gets data and sets the feature encoder up for usage.\n",
    "        MUST be called before calling train() otherwise results may be unreliable\n",
    "        '''\n",
    "        self.key = tuple(exclude)\n",
    "        \n",
    "#         if self.key not in self.data:\n",
    "#             self.data[self.key] = featurize(maxlen, 1, 'train', exclude) + featurize(maxlen, 0, 'train', exclude)\n",
    "#         if self.key not in self.test:\n",
    "#             self.test[self.key] = featurize(maxlen, 1, 'test', exclude) + featurize(maxlen, 0, 'test', exclude)\n",
    "        \n",
    "        self.vec[self.key] = DictVectorizer()\n",
    "        self.vec[self.key].fit(x[0] for x in self.data[self.key]+self.test[self.key])\n",
    "#         self.clf[self.key] = GridSearchCV(self.clfcls(**self.kwargs), param_grid=param_dist, iid=False, cv=3)\n",
    "        self.clf[self.key] = self.clfcls(**self.kwargs)\n",
    "        \n",
    "    def train(self):\n",
    "        '''\n",
    "        trains the classifier on maxlen datapoints\n",
    "        '''\n",
    "        assert self.data.get(self.key, None) is not None, 'forgot to preprocess?'\n",
    "                \n",
    "        examples = self.vec[self.key].transform([x[0] for x in self.data[self.key]])\n",
    "        labels = [x[1] for x in self.data[self.key]]\n",
    "        self.clf[self.key].fit(examples, labels)\n",
    "        \n",
    "    \n",
    "    def evaluate(self):\n",
    "        examples = self.vec[self.key].transform([x[0] for x in self.test[self.key]])\n",
    "        labels = [x[1] for x in self.test[self.key]]\n",
    "        return self.clf[self.key].score(examples, labels)\n",
    "        \n",
    "        \n",
    "    def incremental(self, maxlen=2048, plot=False):\n",
    "        '''\n",
    "        among the add-ons, do an inclusion-exclusion of each feature\n",
    "        and go through the entire model training and evaluation process\n",
    "        '''\n",
    "#         p = Path('traindata{}.cache'.format(maxlen))\n",
    "#         if p.exists():\n",
    "#             print('found cached data at', p)\n",
    "#             with p.open('rb') as f:\n",
    "#                 self.data = pickle.load(f)\n",
    "#         p = Path('testdata{}.cache'.format(maxlen))\n",
    "#         if p.exists():\n",
    "#             print('found cached data at', p)\n",
    "#             with p.open('rb') as f:\n",
    "#                 self.test = pickle.load(f)\n",
    "                \n",
    "        def pipeline(exclude=[]):\n",
    "            include = set(self.baseline+self.addons).difference(set(exclude))\n",
    "            print('running pipeline for featureset=', include)\n",
    "            with Path('cached/{}_train.cache'.format('_'.join(sorted(include)))).open('rb') as f:\n",
    "                self.data[tuple(exclude)] = pickle.load(f)\n",
    "            with Path('cached/{}_test.cache'.format('_'.join(sorted(include)))).open('rb') as f:\n",
    "                self.test[tuple(exclude)] = pickle.load(f)\n",
    "            self.setup(maxlen, exclude)\n",
    "            self.train()\n",
    "            return self.evaluate(), include\n",
    "\n",
    "        \n",
    "        results = []\n",
    "        \n",
    "        results.append(pipeline(exclude=['sentiment', 'antonym']))\n",
    "        results.append(pipeline(exclude=['sentiment']))\n",
    "        results.append(pipeline(exclude=['antonym']))\n",
    "        \n",
    "        results.append(pipeline(exclude=['wordpair']))\n",
    "        results.append(pipeline(exclude=['wordpair', 'sentiment']))\n",
    "        results.append(pipeline(exclude=['wordpair', 'antonym']))\n",
    "        \n",
    "        results.append(pipeline())\n",
    "        \n",
    "        self.results = results\n",
    "        \n",
    "#         p = Path('traindata{}.cache'.format(maxlen))\n",
    "#         if not p.exists():\n",
    "#             print('storing cached data at', p)\n",
    "#             with p.open('wb') as f:\n",
    "#                 pickle.dump(obj=self.data, file=f)\n",
    "#         p = Path('testdata{}.cache'.format(maxlen))\n",
    "#         if not p.exists():\n",
    "#             print('storing cached data at', p)\n",
    "#             with p.open('wb') as f:\n",
    "#                 pickle.dump(obj=self.test, file=f)\n",
    "        \n",
    "        if plot:\n",
    "            raise NotImplementedError\n",
    "        \n",
    "        return results\n",
    "       \n",
    "    def visualize_arguments(self):\n",
    "        '''\n",
    "        iterates through experiments and provides kwarguments to the plot function from above,\n",
    "        in order to visualize top features\n",
    "        '''\n",
    "        for key in sorted(self.clf.keys(), key=lambda x: -len(x)):\n",
    "            # print(key)\n",
    "            yield {'desc': set(self.baseline+self.addons).difference(set(key)), \n",
    "                   'classifier': self.clf[key], \n",
    "                   'feature_names': self.vec[key].get_feature_names()}"
   ]
  },
  {
   "cell_type": "code",
   "execution_count": null,
   "metadata": {},
   "outputs": [],
   "source": []
  },
  {
   "cell_type": "code",
   "execution_count": 75,
   "metadata": {},
   "outputs": [],
   "source": [
    "# Utility function to report best scores\n",
    "def report_results(results, n_top=6):\n",
    "    for i in range(1, max(1, n_top + 1)):\n",
    "        candidates = np.flatnonzero(results['rank_test_score'] == i)\n",
    "        for candidate in candidates:\n",
    "            print(\"Model with rank: {0}\".format(i))\n",
    "            print(\"Mean validation score: {0:.3f} (std: {1:.3f})\".format(\n",
    "                  results['mean_test_score'][candidate],\n",
    "                  results['std_test_score'][candidate]))\n",
    "            print(\"Parameters: {0}\".format(results['params'][candidate]))\n",
    "            print(\"\")"
   ]
  },
  {
   "cell_type": "markdown",
   "metadata": {},
   "source": [
    "#### Make instances of it and run the experiment"
   ]
  },
  {
   "cell_type": "markdown",
   "metadata": {},
   "source": [
    "##### SVM: LinearSVC"
   ]
  },
  {
   "cell_type": "code",
   "execution_count": null,
   "metadata": {},
   "outputs": [
    {
     "name": "stdout",
     "output_type": "stream",
     "text": [
      "running pipeline for featureset= {'wordpair'}\n"
     ]
    },
    {
     "name": "stderr",
     "output_type": "stream",
     "text": [
      "/home/aalok/.local/lib/python3.5/site-packages/sklearn/svm/base.py:931: ConvergenceWarning: Liblinear failed to converge, increase the number of iterations.\n",
      "  \"the number of iterations.\", ConvergenceWarning)\n"
     ]
    },
    {
     "name": "stdout",
     "output_type": "stream",
     "text": [
      "running pipeline for featureset= {'wordpair', 'antonym'}\n"
     ]
    }
   ],
   "source": [
    "# run the linearSVC experiments\n",
    "svmexp = Experiment(name='pilotSVM', clfcls=svm.LinearSVC, max_iter=1000)\n",
    "_ = svmexp.incremental()"
   ]
  },
  {
   "cell_type": "code",
   "execution_count": 73,
   "metadata": {},
   "outputs": [
    {
     "name": "stdout",
     "output_type": "stream",
     "text": [
      "0.5358 \t['antonym']\n",
      "0.5686 \t['sentiment']\n",
      "0.5797 \t['antonym', 'sentiment']\n",
      "0.5857 \t['wordpair']\n",
      "0.5907 \t['sentiment', 'wordpair']\n",
      "0.5983 \t['antonym', 'wordpair']\n",
      "0.6010 \t['antonym', 'sentiment', 'wordpair']\n"
     ]
    }
   ],
   "source": [
    "print(*('{:>.4f} \\t{}'.format(acc, sorted(feat)) for acc, feat in sorted(svmexp.results)), sep='\\n')"
   ]
  },
  {
   "cell_type": "code",
   "execution_count": 79,
   "metadata": {},
   "outputs": [
    {
     "name": "stdout",
     "output_type": "stream",
     "text": [
      "================================================================\n",
      "{'sentiment', 'wordpair', 'antonym'}\n",
      "Model with rank: 1\n",
      "Mean validation score: 0.475 (std: 0.007)\n",
      "Parameters: {'max_iter': 5000, 'C': 2.6999999999999997}\n",
      "\n",
      "Model with rank: 1\n",
      "Mean validation score: 0.475 (std: 0.007)\n",
      "Parameters: {'max_iter': 10000, 'C': 2.6999999999999997}\n",
      "\n",
      "================================================================\n",
      "{'wordpair', 'sentiment'}\n",
      "Model with rank: 1\n",
      "Mean validation score: 0.474 (std: 0.006)\n",
      "Parameters: {'max_iter': 5000, 'C': 2.6999999999999997}\n",
      "\n",
      "Model with rank: 1\n",
      "Mean validation score: 0.474 (std: 0.006)\n",
      "Parameters: {'max_iter': 10000, 'C': 2.6999999999999997}\n",
      "\n",
      "================================================================\n",
      "{'wordpair', 'antonym'}\n",
      "Model with rank: 1\n",
      "Mean validation score: 0.462 (std: 0.002)\n",
      "Parameters: {'max_iter': 5000, 'C': 1.6999999999999997}\n",
      "\n",
      "Model with rank: 1\n",
      "Mean validation score: 0.462 (std: 0.002)\n",
      "Parameters: {'max_iter': 10000, 'C': 1.6999999999999997}\n",
      "\n",
      "================================================================\n",
      "{'wordpair'}\n",
      "Model with rank: 1\n",
      "Mean validation score: 0.450 (std: 0.002)\n",
      "Parameters: {'max_iter': 5000, 'C': 1.6999999999999997}\n",
      "\n",
      "Model with rank: 1\n",
      "Mean validation score: 0.450 (std: 0.002)\n",
      "Parameters: {'max_iter': 10000, 'C': 1.6999999999999997}\n",
      "\n",
      "================================================================\n",
      "{'sentiment', 'antonym'}\n",
      "Model with rank: 1\n",
      "Mean validation score: 0.600 (std: 0.005)\n",
      "Parameters: {'max_iter': 5000, 'C': 1.6999999999999997}\n",
      "\n",
      "Model with rank: 1\n",
      "Mean validation score: 0.600 (std: 0.005)\n",
      "Parameters: {'max_iter': 10000, 'C': 1.6999999999999997}\n",
      "\n",
      "================================================================\n",
      "{'sentiment'}\n",
      "Model with rank: 1\n",
      "Mean validation score: 0.601 (std: 0.006)\n",
      "Parameters: {'max_iter': 5000, 'C': 1.2}\n",
      "\n",
      "Model with rank: 1\n",
      "Mean validation score: 0.601 (std: 0.006)\n",
      "Parameters: {'max_iter': 10000, 'C': 1.2}\n",
      "\n",
      "Model with rank: 1\n",
      "Mean validation score: 0.601 (std: 0.006)\n",
      "Parameters: {'max_iter': 5000, 'C': 2.1999999999999997}\n",
      "\n",
      "Model with rank: 1\n",
      "Mean validation score: 0.601 (std: 0.006)\n",
      "Parameters: {'max_iter': 10000, 'C': 2.1999999999999997}\n",
      "\n",
      "================================================================\n",
      "{'antonym'}\n",
      "Model with rank: 1\n",
      "Mean validation score: 0.542 (std: 0.003)\n",
      "Parameters: {'max_iter': 5000, 'C': 0.2}\n",
      "\n",
      "Model with rank: 1\n",
      "Mean validation score: 0.542 (std: 0.003)\n",
      "Parameters: {'max_iter': 10000, 'C': 0.2}\n",
      "\n"
     ]
    }
   ],
   "source": [
    "for key, random_search in sorted(svmexp.clf.items()):\n",
    "    print('='*64)\n",
    "    print(set(svmexp.baseline+svmexp.addons).difference(set(key)))\n",
    "    report_results(random_search.cv_results_, n_top=2)"
   ]
  },
  {
   "cell_type": "code",
   "execution_count": 21,
   "metadata": {},
   "outputs": [],
   "source": [
    "# for kwargs in svmexp.visualize_arguments():\n",
    "#     if len(kwargs['feature_names']) >= 5:\n",
    "#         plot_coefficients(**kwargs, top_features=min(20, len(kwargs['feature_names'])))\n",
    "#     else:\n",
    "#         continue"
   ]
  },
  {
   "cell_type": "code",
   "execution_count": null,
   "metadata": {},
   "outputs": [],
   "source": []
  },
  {
   "cell_type": "markdown",
   "metadata": {},
   "source": [
    "##### LR: LogisticRegression"
   ]
  },
  {
   "cell_type": "code",
   "execution_count": 15,
   "metadata": {},
   "outputs": [
    {
     "name": "stdout",
     "output_type": "stream",
     "text": [
      "found cached data at traindata4096.cache\n",
      "found cached data at testdata4096.cache\n",
      "running pipeline for featureset= {'wordpair'}\n",
      "running pipeline for featureset= {'wordpair', 'antonym'}\n",
      "running pipeline for featureset= {'wordpair', 'sentiment'}\n",
      "running pipeline for featureset= {'sentiment', 'antonym'}\n",
      "running pipeline for featureset= {'antonym'}\n",
      "running pipeline for featureset= {'sentiment'}\n",
      "running pipeline for featureset= {'sentiment', 'wordpair', 'antonym'}\n"
     ]
    }
   ],
   "source": [
    "# run the logistic regression experiments\n",
    "lrexp = Experiment(name='pilotLR', clfcls=linear_model.LogisticRegression, max_iter=1000, solver='sag')\n",
    "_ = lrexp.incremental(maxlen=4096)"
   ]
  },
  {
   "cell_type": "code",
   "execution_count": 72,
   "metadata": {},
   "outputs": [
    {
     "name": "stdout",
     "output_type": "stream",
     "text": [
      "0.5339 \t['antonym']\n",
      "0.5679 \t['sentiment']\n",
      "0.5787 \t['antonym', 'sentiment']\n",
      "0.6128 \t['antonym', 'wordpair']\n",
      "0.6149 \t['wordpair']\n",
      "0.6183 \t['antonym', 'sentiment', 'wordpair']\n",
      "0.6193 \t['sentiment', 'wordpair']\n"
     ]
    }
   ],
   "source": [
    "print(*('{:>.4f} \\t{}'.format(acc, sorted(feat)) for acc, feat in sorted(lrexp.results)), sep='\\n')"
   ]
  },
  {
   "cell_type": "code",
   "execution_count": 71,
   "metadata": {},
   "outputs": [],
   "source": [
    "# for kwargs in lrexp.visualize_arguments():\n",
    "#     if len(kwargs['feature_names']) >= 5:\n",
    "#         plot_coefficients(**kwargs, top_features=min(20, len(kwargs['feature_names'])))\n",
    "#     else:\n",
    "#         continue"
   ]
  },
  {
   "cell_type": "code",
   "execution_count": null,
   "metadata": {},
   "outputs": [],
   "source": []
  },
  {
   "cell_type": "markdown",
   "metadata": {},
   "source": [
    "### Visualize all the experiments together"
   ]
  },
  {
   "cell_type": "code",
   "execution_count": 17,
   "metadata": {},
   "outputs": [],
   "source": [
    "def barplot(A, B, clfA='LinearSVC', clfB='LogisticRegression'):\n",
    "    # https://matplotlib.org/3.1.1/gallery/lines_bars_and_markers/\n",
    "    #    barchart.html#sphx-glr-gallery-lines-bars-and-markers-barchart-py\n",
    "    sortkey = lambda pair: (len(pair[1]), pair[1])\n",
    "    A, labels = [*zip(*sorted(A, key=sortkey))]\n",
    "    B, _ = [*zip(*sorted(B, key=sortkey))]\n",
    "    \n",
    "    labels = ['+\\n'.join(label) for label in labels]\n",
    "    \n",
    "    x = np.arange(len(A))  # the label locations\n",
    "    width = 0.35  # the width of the bars\n",
    "\n",
    "    fig, ax = plt.subplots(figsize=(10, 5))\n",
    "    rects1 = ax.bar(x - width/2-.05, A, width, label=clfA, color=(.1,.1,.1,.1), edgecolor='blue')\n",
    "    rects2 = ax.bar(x + width/2+.05, B, width, label=clfB)\n",
    "\n",
    "    # Add some text for labels, title and custom x-axis tick labels, etc.\n",
    "    ax.set_ylabel('Accuracy')\n",
    "    ax.set_title('Accuracy by learning algorithm and featureset')\n",
    "    plt.xticks(x, labels, rotation=30)\n",
    "    plt.ylim(.45, .7)\n",
    "    ax.margins(0.1, 0.5)\n",
    "    ax.legend(loc='upper left')\n",
    "\n",
    "\n",
    "    def autolabel(rects):\n",
    "        \"\"\"Attach a text label above each bar in *rects*, displaying its height.\"\"\"\n",
    "        for rect in rects:\n",
    "            height = rect.get_height()\n",
    "            ax.annotate('{:>.3f}'.format(height),\n",
    "                        xy=(rect.get_x() + rect.get_width() / 2, height),\n",
    "                        xytext=(0, 3),  # 3 points vertical offset\n",
    "                        textcoords=\"offset points\",\n",
    "                        ha='center', va='bottom')\n",
    "\n",
    "\n",
    "    autolabel(rects1)\n",
    "    autolabel(rects2)\n",
    "\n",
    "    fig.tight_layout()\n",
    "\n",
    "    plt.show()"
   ]
  },
  {
   "cell_type": "code",
   "execution_count": 18,
   "metadata": {},
   "outputs": [
    {
     "data": {
      "image/png": "[encoded data removed]",
      "text/plain": [
       "<Figure size 720x360 with 1 Axes>"
      ]
     },
     "metadata": {},
     "output_type": "display_data"
    }
   ],
   "source": [
    "barplot(svmexp.results, lrexp.results)"
   ]
  },
  {
   "cell_type": "code",
   "execution_count": null,
   "metadata": {},
   "outputs": [],
   "source": []
  }
 ],
 "metadata": {
  "kernelspec": {
   "display_name": "Python 3",
   "language": "python",
   "name": "python3"
  },
  "language_info": {
   "codemirror_mode": {
    "name": "ipython",
    "version": 3
   },
   "file_extension": ".py",
   "mimetype": "text/x-python",
   "name": "python",
   "nbconvert_exporter": "python",
   "pygments_lexer": "ipython3",
   "version": "3.5.2"
  }
 },
 "nbformat": 4,
 "nbformat_minor": 2
}
